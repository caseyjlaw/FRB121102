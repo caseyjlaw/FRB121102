{
 "cells": [
  {
   "cell_type": "markdown",
   "metadata": {},
   "source": [
    "# What can we say about the temporal statistics of repeater bursts?\n",
    "## Do these properties reflect the larger FRB population?"
   ]
  },
  {
   "cell_type": "code",
   "execution_count": null,
   "metadata": {
    "collapsed": true
   },
   "outputs": [],
   "source": [
    "%matplotlib inline"
   ]
  },
  {
   "cell_type": "code",
   "execution_count": null,
   "metadata": {
    "collapsed": true
   },
   "outputs": [],
   "source": [
    "import numpy as np\n",
    "import pylab as pl\n",
    "from astropy.stats import LombScargle\n",
    "import astropy.time\n",
    "import astropy.units as u\n",
    "from scipy.stats import poisson\n",
    "\n",
    "# for plotting lots of points\n",
    "import matplotlib as mpl\n",
    "mpl.rcParams['agg.path.chunksize'] = 10000"
   ]
  },
  {
   "cell_type": "code",
   "execution_count": null,
   "metadata": {
    "collapsed": true
   },
   "outputs": [],
   "source": [
    "# program 15B-378\n",
    "# 10 hours no detections\n",
    "#obstimes_L = \"\"\"\"\"\"\n",
    "\n",
    "# programs 16A-459 and 16A-496\n",
    "# 9 detections\n",
    "obstimes_S = \"\"\"\n",
    "16-Apr-25 23:21:39, 16-Apr-26 03:21:00\n",
    "16-Apr-26 23:14:31, 16-Apr-27 01:14:11\n",
    "16-Apr-27 23:26:09, 16-Apr-28 01:25:50\n",
    "16-Apr-28 22:41:31, 16-Apr-29 00:41:11\n",
    "16-Apr-29 22:37:34, 16-Apr-30 00:37:14\n",
    "16-Apr-30 19:14:46, 16-Apr-30 20:14:35\n",
    "16-May-01 18:08:21, 16-May-01 19:08:10\n",
    "16-May-02 23:14:18, 16-May-03 00:14:07\n",
    "16-May-03 22:53:26, 16-May-03 23:53:15\n",
    "16-May-04 22:50:30, 16-May-04 23:50:19\n",
    "16-May-06 18:25:12, 16-May-06 19:25:01\n",
    "16-May-07 19:34:13, 16-May-07 20:34:03\n",
    "16-May-08 19:30:20, 16-May-08 20:30:10\n",
    "16-May-13 17:12:48, 16-May-13 19:27:25\n",
    "16-May-14 17:14:11, 16-May-14 19:28:48\n",
    "16-May-15 17:15:26, 16-May-15 19:30:03\n",
    "16-May-16 16:59:52, 16-May-16 19:14:29\n",
    "16-May-20 16:45:46, 16-May-20 19:00:23\n",
    "16-May-21 16:44:06, 16-May-21 18:58:44\n",
    "16-May-22 16:43:53, 16-May-22 18:58:30\n",
    "16-May-23 16:44:11, 16-May-23 18:58:48\n",
    "16-May-27 16:29:34, 16-May-27 18:44:11\n",
    "16-Aug-23 17:26:28, 16-Aug-23 18:20:18\n",
    "16-Sep-02 15:52:17, 16-Sep-02 16:46:08\n",
    "16-Sep-07 10:14:50, 16-Sep-07 12:14:29\n",
    "16-Sep-08 10:14:40, 16-Sep-08 12:14:19\n",
    "16-Sep-10 09:59:36, 16-Sep-10 11:59:15\n",
    "16-Sep-11 09:59:49, 16-Sep-11 11:59:29\n",
    "16-Sep-12 09:15:19, 16-Sep-12 11:14:58\n",
    "16-Sep-13 09:23:59, 16-Sep-13 11:23:39\n",
    "16-Sep-14 09:20:23, 16-Sep-14 11:20:03\n",
    "16-Sep-15 09:16:29, 16-Sep-15 11:16:09\n",
    "16-Sep-16 09:11:23, 16-Sep-16 11:11:03\n",
    "16-Sep-17 08:59:20, 16-Sep-17 10:59:00\n",
    "16-Sep-18 08:59:27, 16-Sep-18 10:59:07\n",
    "16-Sep-19 08:44:32, 16-Sep-19 10:44:12\n",
    "16-Sep-20 08:44:33, 16-Sep-20 10:44:13\n",
    "\"\"\"\n",
    "\n",
    "# end of 16A-496\n",
    "# no detections\n",
    "obstimes_C = \"\"\"\n",
    "16-Sep-20 17:19:03, 16-Sep-20 19:18:42\n",
    "16-Sep-21 09:13:57, 16-Sep-21 11:13:36\n",
    "16-Sep-22 09:12:24, 16-Sep-22 11:12:04\n",
    "\"\"\""
   ]
  },
  {
   "cell_type": "code",
   "execution_count": null,
   "metadata": {
    "collapsed": false
   },
   "outputs": [],
   "source": [
    "minmjd = 57620\n",
    "ranges = []\n",
    "for tr in obstimes_S.split('\\n')[1:-1]:\n",
    "    start, stop = tr.split(', ')\n",
    "    start = start.replace('Apr', '04').replace('May', '05').replace('Aug', '08').replace('Sep', '09').replace('16-', '2016-')\n",
    "    stop = stop.replace('Apr', '04').replace('May', '05').replace('Aug', '08').replace('Sep', '09').replace('16-', '2016-')\n",
    "    starttime = astropy.time.Time(start, format='iso', scale='utc').mjd\n",
    "    stoptime = astropy.time.Time(stop, format='iso', scale='utc').mjd\n",
    "    if starttime > minmjd:\n",
    "        ranges.append((starttime, stoptime))\n",
    "    \n",
    "tot = 0\n",
    "start, stop = ranges[0]\n",
    "sampling = 24*3600*100 # per day\n",
    "times = np.linspace(start, stop, (stop-start)*sampling)\n",
    "for rr in ranges[1:]:\n",
    "    start, stop = rr\n",
    "    tot += 24*(stop - start)\n",
    "    times = np.concatenate( (times, np.linspace(start, stop, (stop-start)*sampling)), axis=0)\n",
    "\n",
    "print('{0} hours in {1} observations'.format(tot, len(ranges)))\n",
    "print('{0} time bins'.format(len(times)))"
   ]
  },
  {
   "cell_type": "code",
   "execution_count": null,
   "metadata": {
    "collapsed": true
   },
   "outputs": [],
   "source": [
    "eventtimes = [57623.74402686, 57633.67986367, 57633.695159375, 57638.49937435,\n",
    "              57643.45730263, 57645.42958602, 57646.4660065, 57648.4369149, 57649.45175697]"
   ]
  },
  {
   "cell_type": "code",
   "execution_count": null,
   "metadata": {
    "collapsed": false
   },
   "outputs": [],
   "source": [
    "values0 = np.zeros(len(times), dtype=bool)\n",
    "for eventtime in eventtimes:\n",
    "    bn = np.where(times > eventtime)[0]\n",
    "    if len(bn) and bn[0] > 0:\n",
    "        print(eventtime, bn[0])\n",
    "        values0[bn[0]] = 1"
   ]
  },
  {
   "cell_type": "code",
   "execution_count": null,
   "metadata": {
    "collapsed": false
   },
   "outputs": [],
   "source": [
    "pl.plot(times, values0, 'x')\n",
    "#pl.plot(times[np.argwhere(times > 57600)], values0[np.argwhere(times > 57600)], '.')\n",
    "pl.ylim(-0.05, 1.05)\n",
    "pl.xlabel('Time (MJD)')\n",
    "pl.ylabel('FRB 121102 Events')"
   ]
  },
  {
   "cell_type": "markdown",
   "metadata": {},
   "source": [
    "## Lomb-Scargle analysis"
   ]
  },
  {
   "cell_type": "code",
   "execution_count": null,
   "metadata": {
    "collapsed": false
   },
   "outputs": [],
   "source": [
    "def runls(times, values, fr=(), verbose=False):\n",
    "    ls = LombScargle(times, values)\n",
    "    if len(fr):\n",
    "        f0, f1 = fr\n",
    "        freq, power = ls.autopower(minimum_frequency=f0, maximum_frequency=f1)\n",
    "    else:\n",
    "        freq, power = ls.autopower()\n",
    "        \n",
    "    if verbose:\n",
    "        print('{0} bins for periods from {1}-{2} s'.format(len(freq), 24*3600./freq.max(), 24*3600./freq.min()))\n",
    "        \n",
    "    return freq, power, ls"
   ]
  },
  {
   "cell_type": "code",
   "execution_count": null,
   "metadata": {
    "collapsed": false
   },
   "outputs": [],
   "source": [
    "fr = (1e3, 5e5)\n",
    "freq0, power0, ls = runls(times, values0, fr=fr, verbose=True)\n",
    "\n",
    "fig = pl.figure(figsize=(6,6))\n",
    "ax = fig.add_subplot(111)\n",
    "pl.plot(np.log10(freq0), power0, 'k')\n",
    "xts = ax.get_xticks()\n",
    "pl.ylabel('Power')\n",
    "pl.xlabel('log Frequency (day$^{-1}$)')\n",
    "ax2 = ax.twiny()\n",
    "pl.plot(np.log10(freq0), power0, 'k')\n",
    "pl.xlabel('Period (s)')\n",
    "xtb = ax.get_xticks().tolist()\n",
    "xtt = [np.round(24*3600./10**xt, 1) for xt in xtb]\n",
    "ax2.set_xticklabels(xtt)#, rotation=45)"
   ]
  },
  {
   "cell_type": "code",
   "execution_count": null,
   "metadata": {
    "collapsed": false
   },
   "outputs": [],
   "source": [
    "fig = pl.figure(figsize=(6,6))\n",
    "ax = fig.add_subplot(111)\n",
    "best_frequency = freq0[np.argmax(power0)]\n",
    "print('Peak power frequency: {0} s'.format(24*3600./best_frequency))\n",
    "t_fit = np.linspace(0, 1)\n",
    "y_fit = ls.model(t_fit, best_frequency)\n",
    "phase = (times * best_frequency) % 1\n",
    "pl.plot(phase, values0, '.')\n",
    "pl.ylim(-0.1, 1.1) \n",
    "pl.show()"
   ]
  },
  {
   "cell_type": "markdown",
   "metadata": {},
   "source": [
    "## simulate Lomb-Scargle to find effect of observing cadence"
   ]
  },
  {
   "cell_type": "code",
   "execution_count": null,
   "metadata": {
    "collapsed": false,
    "scrolled": true
   },
   "outputs": [],
   "source": [
    "ntr = 100\n",
    "powers = []\n",
    "for trial in range(ntr):\n",
    "    print('trial {0}'.format(trial))\n",
    "    values = np.zeros(len(times), dtype=bool)\n",
    "#    ets = np.random.choice(times[np.where(times > 57600)], size=9, replace=False)  # only last campaign\n",
    "    ets = np.random.choice(times, size=9, replace=False)  # all times\n",
    "    for et in ets:\n",
    "        etind = np.where(times >= et)[0][0]\n",
    "        values[etind] = 1\n",
    "        \n",
    "#    pl.plot(times, values, '.')\n",
    "#    pl.ylim(-0.1, 1.1)\n",
    "    freq, power, lsn = runls(times, values, fr=fr)\n",
    "#    plotls(freq, power)\n",
    "    powers.append(power)\n",
    "    \n",
    "powers = np.array(powers)"
   ]
  },
  {
   "cell_type": "code",
   "execution_count": null,
   "metadata": {
    "collapsed": false
   },
   "outputs": [],
   "source": [
    "bound = 0.05\n",
    "\n",
    "powsort = np.sort(powers, axis=0)\n",
    "powh = powsort[int((1-bound)*ntr)-1]\n",
    "\n",
    "fig = pl.figure(figsize=(6,6))\n",
    "ax = fig.add_subplot(111)\n",
    "pl.plot(np.log10(freq0), power0, 'k.')\n",
    "pl.plot(np.log10(freq0), powh, 'c')\n",
    "xts = ax.get_xticks()\n",
    "pl.ylabel('Power')\n",
    "pl.xlabel('log Frequency (day$^{-1}$)')\n",
    "ax2 = ax.twiny()\n",
    "pl.plot(np.log10(freq0), power0, 'k.')\n",
    "pl.plot(np.log10(freq0), powh, 'c')\n",
    "pl.xlabel('Period (s)')\n",
    "xtb = ax.get_xticks().tolist()\n",
    "xtt = [np.round(24*3600./10**xt, 1) for xt in xtb]\n",
    "ax2.set_xticklabels(xtt)#, rotation=45)"
   ]
  },
  {
   "cell_type": "markdown",
   "metadata": {},
   "source": [
    "## Period search"
   ]
  },
  {
   "cell_type": "code",
   "execution_count": null,
   "metadata": {
    "collapsed": false
   },
   "outputs": [],
   "source": [
    "# find high frequencies in l-s analysis\n",
    "high = np.where(power0 > 0.9*power0.max())\n",
    "print(len(high[0]), len(freq0))\n",
    "print(24*3600./freq0[high])"
   ]
  },
  {
   "cell_type": "code",
   "execution_count": null,
   "metadata": {
    "collapsed": false,
    "scrolled": true
   },
   "outputs": [],
   "source": [
    "# calculate all differential arrival times\n",
    "delta = [(i,j, eventtimes[j] - eventtimes[i]) for i in range(len(eventtimes)) for j in range(i+1, len(eventtimes))]\n",
    "delta = np.array(delta)\n",
    "print(delta)"
   ]
  },
  {
   "cell_type": "code",
   "execution_count": null,
   "metadata": {
    "collapsed": false
   },
   "outputs": [],
   "source": [
    "cnts = []\n",
    "edgs = []\n",
    "for hh in high[0]:\n",
    "    rots = np.mod(hh*delta[:,2], 1)\n",
    "    cnt, edg = pl.histogram(rots, bins=np.linspace(0,1,30))\n",
    "    cnts.append(cnt)\n",
    "    edgs.append(edg)\n",
    "\n",
    "cntmax = max([cnt.max() for cnt in cnts])\n",
    "print(cntmax)\n",
    "for i in range(len(high[0])):\n",
    "    if cnts[i].max() >= cntmax:\n",
    "        rots = np.mod(high[0][i]*delta[:,2], 1)\n",
    "        print(high[0][i], 24*3600./freq0[high[0][i]])\n",
    "        diffs = [(delta[j,0], delta[j,1], rots[j]) for j in range(len(rots))]\n",
    "        for diff in diffs:\n",
    "            print(diff)\n",
    "        pl.plot(edgs[i][:-1], cnts[i], '.')"
   ]
  },
  {
   "cell_type": "markdown",
   "metadata": {},
   "source": [
    "## Rate"
   ]
  },
  {
   "cell_type": "code",
   "execution_count": null,
   "metadata": {
    "collapsed": false
   },
   "outputs": [],
   "source": [
    "# is the rate dropping in time?\n",
    "sel = np.where((times > 57600) & (times < 57635))\n",
    "print(values0[sel].mean()*3600)\n",
    "sel = np.where((times > 57635) & (times < 57660))\n",
    "print(values0[sel].mean()*3600)"
   ]
  },
  {
   "cell_type": "code",
   "execution_count": null,
   "metadata": {
    "collapsed": true
   },
   "outputs": [],
   "source": [
    "t0 = 57623.\n",
    "rate = lambda t, a, b: a+b*(t-t0)\n",
    "rprod = lambda t, v, a, b: np.prod(poisson.pmf(v, np.maximum(rate(t, a, b), 0.)))"
   ]
  },
  {
   "cell_type": "code",
   "execution_count": null,
   "metadata": {
    "collapsed": false
   },
   "outputs": [],
   "source": [
    "ar = np.linspace(1e-5, 7.5e-4, 70)\n",
    "br = np.linspace(-2.8e-5, 0.5e-5, 50)\n",
    "sel = np.where((times > t0))\n",
    "probs = np.zeros(shape=(len(ar), len(br)))"
   ]
  },
  {
   "cell_type": "code",
   "execution_count": null,
   "metadata": {
    "collapsed": false
   },
   "outputs": [],
   "source": [
    "for i in range(len(ar)):\n",
    "    for j in range(len(br)):\n",
    "        probs[i,j] = rprod(times[sel], values0[sel], ar[i], br[j])\n",
    "probs = np.ma.masked_invalid(probs)"
   ]
  },
  {
   "cell_type": "code",
   "execution_count": null,
   "metadata": {
    "collapsed": false
   },
   "outputs": [],
   "source": [
    "fig = pl.figure(figsize=(7,7))\n",
    "ax = fig.add_subplot(111)\n",
    "pl.imshow(probs/probs.max(), interpolation='nearest', aspect='auto', origin='bottom', cmap='magma',\n",
    "          extent=(br[0], br[-1], ar[0], ar[-1]))\n",
    "X, Y = np.meshgrid(br, ar)\n",
    "pl.contour(X, Y, probs/probs.max(), [0.05, 0.1, 0.2], colors='w')\n",
    "#pl.contour(probs/probs.max(), [0.05])\n",
    "pl.xlabel('Rate change (s$^{-1}$ day$^{-1}$)', fontsize=14)\n",
    "pl.ylabel('Rate (s$^{-1}$)', fontsize=14)\n",
    "xt = pl.setp(ax.get_xticklabels(), fontsize=14)\n",
    "yt = pl.setp(ax.get_yticklabels(), fontsize=14)\n",
    "ax.xaxis.set_tick_params(width=2, color='w')\n",
    "ax.yaxis.set_tick_params(width=2, color='w')\n",
    "#pl.colorbar()\n",
    "\n",
    "bm, am = np.where(probs == probs.max())\n",
    "print(am[0], bm[0], probs[bm, am].data[0])"
   ]
  },
  {
   "cell_type": "code",
   "execution_count": null,
   "metadata": {
    "collapsed": true
   },
   "outputs": [],
   "source": []
  }
 ],
 "metadata": {
  "anaconda-cloud": {},
  "kernelspec": {
   "display_name": "Python [default]",
   "language": "python",
   "name": "python2"
  },
  "language_info": {
   "codemirror_mode": {
    "name": "ipython",
    "version": 2
   },
   "file_extension": ".py",
   "mimetype": "text/x-python",
   "name": "python",
   "nbconvert_exporter": "python",
   "pygments_lexer": "ipython2",
   "version": "2.7.12"
  }
 },
 "nbformat": 4,
 "nbformat_minor": 1
}
