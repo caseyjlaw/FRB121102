{
 "cells": [
  {
   "cell_type": "markdown",
   "metadata": {},
   "source": [
    "# What can we say about the temporal statistics of repeater bursts?\n",
    "## Do these properties reflect the larger FRB population?"
   ]
  },
  {
   "cell_type": "code",
   "execution_count": 1,
   "metadata": {
    "collapsed": true
   },
   "outputs": [],
   "source": [
    "%matplotlib inline"
   ]
  },
  {
   "cell_type": "code",
   "execution_count": 2,
   "metadata": {
    "collapsed": true
   },
   "outputs": [],
   "source": [
    "import numpy as np\n",
    "import pylab as pl\n",
    "from astropy.stats import LombScargle\n",
    "import astropy.time\n",
    "import astropy.units as u\n",
    "from scipy.stats import poisson\n",
    "\n",
    "# for plotting lots of points\n",
    "import matplotlib as mpl\n",
    "mpl.rcParams['agg.path.chunksize'] = 10000"
   ]
  },
  {
   "cell_type": "code",
   "execution_count": 3,
   "metadata": {
    "collapsed": true
   },
   "outputs": [],
   "source": [
    "# program 15B-378\n",
    "# 10 hours no detections\n",
    "#obstimes_L = \"\"\"\"\"\"\n",
    "\n",
    "# programs 16A-459 and 16A-496\n",
    "# 9 detections\n",
    "obstimes_S = \"\"\"\n",
    "16-Apr-25 23:21:39, 16-Apr-26 03:21:00\n",
    "16-Apr-26 23:14:31, 16-Apr-27 01:14:11\n",
    "16-Apr-27 23:26:09, 16-Apr-28 01:25:50\n",
    "16-Apr-28 22:41:31, 16-Apr-29 00:41:11\n",
    "16-Apr-29 22:37:34, 16-Apr-30 00:37:14\n",
    "16-Apr-30 19:14:46, 16-Apr-30 20:14:35\n",
    "16-May-01 18:08:21, 16-May-01 19:08:10\n",
    "16-May-02 23:14:18, 16-May-03 00:14:07\n",
    "16-May-03 22:53:26, 16-May-03 23:53:15\n",
    "16-May-04 22:50:30, 16-May-04 23:50:19\n",
    "16-May-06 18:25:12, 16-May-06 19:25:01\n",
    "16-May-07 19:34:13, 16-May-07 20:34:03\n",
    "16-May-08 19:30:20, 16-May-08 20:30:10\n",
    "16-May-13 17:12:48, 16-May-13 19:27:25\n",
    "16-May-14 17:14:11, 16-May-14 19:28:48\n",
    "16-May-15 17:15:26, 16-May-15 19:30:03\n",
    "16-May-16 16:59:52, 16-May-16 19:14:29\n",
    "16-May-20 16:45:46, 16-May-20 19:00:23\n",
    "16-May-21 16:44:06, 16-May-21 18:58:44\n",
    "16-May-22 16:43:53, 16-May-22 18:58:30\n",
    "16-May-23 16:44:11, 16-May-23 18:58:48\n",
    "16-May-27 16:29:34, 16-May-27 18:44:11\n",
    "16-Aug-23 17:26:28, 16-Aug-23 18:20:18\n",
    "16-Sep-02 15:52:17, 16-Sep-02 16:46:08\n",
    "16-Sep-07 10:14:50, 16-Sep-07 12:14:29\n",
    "16-Sep-08 10:14:40, 16-Sep-08 12:14:19\n",
    "16-Sep-10 09:59:36, 16-Sep-10 11:59:15\n",
    "16-Sep-11 09:59:49, 16-Sep-11 11:59:29\n",
    "16-Sep-12 09:15:19, 16-Sep-12 11:14:58\n",
    "16-Sep-13 09:23:59, 16-Sep-13 11:23:39\n",
    "16-Sep-14 09:20:23, 16-Sep-14 11:20:03\n",
    "16-Sep-15 09:16:29, 16-Sep-15 11:16:09\n",
    "16-Sep-16 09:11:23, 16-Sep-16 11:11:03\n",
    "16-Sep-17 08:59:20, 16-Sep-17 10:59:00\n",
    "16-Sep-18 08:59:27, 16-Sep-18 10:59:07\n",
    "16-Sep-19 08:44:32, 16-Sep-19 10:44:12\n",
    "16-Sep-20 08:44:33, 16-Sep-20 10:44:13\n",
    "\"\"\"\n",
    "\n",
    "# end of 16A-496\n",
    "# no detections\n",
    "obstimes_C = \"\"\"\n",
    "16-Sep-20 17:19:03, 16-Sep-20 19:18:42\n",
    "16-Sep-21 09:13:57, 16-Sep-21 11:13:36\n",
    "16-Sep-22 09:12:24, 16-Sep-22 11:12:04\n",
    "\"\"\""
   ]
  },
  {
   "cell_type": "code",
   "execution_count": 4,
   "metadata": {
    "collapsed": false
   },
   "outputs": [
    {
     "name": "stdout",
     "output_type": "stream",
     "text": [
      "26.8241666669 hours in 15 observations\n",
      "997961 time bins\n"
     ]
    }
   ],
   "source": [
    "minmjd = 57620\n",
    "ranges = []\n",
    "for tr in obstimes_S.split('\\n')[1:-1]:\n",
    "    start, stop = tr.split(', ')\n",
    "    start = start.replace('Apr', '04').replace('May', '05').replace('Aug', '08').replace('Sep', '09').replace('16-', '2016-')\n",
    "    stop = stop.replace('Apr', '04').replace('May', '05').replace('Aug', '08').replace('Sep', '09').replace('16-', '2016-')\n",
    "    starttime = astropy.time.Time(start, format='iso', scale='utc').mjd\n",
    "    stoptime = astropy.time.Time(stop, format='iso', scale='utc').mjd\n",
    "    if starttime > minmjd:\n",
    "        ranges.append((starttime, stoptime))\n",
    "    \n",
    "tot = 0\n",
    "start, stop = ranges[0]\n",
    "sampling = 24*3600*10 # per day\n",
    "times = np.linspace(start, stop, (stop-start)*sampling)\n",
    "for rr in ranges[1:]:\n",
    "    start, stop = rr\n",
    "    tot += 24*(stop - start)\n",
    "    times = np.concatenate( (times, np.linspace(start, stop, (stop-start)*sampling)), axis=0)\n",
    "\n",
    "print('{0} hours in {1} observations'.format(tot, len(ranges)))\n",
    "print('{0} time bins'.format(len(times)))"
   ]
  },
  {
   "cell_type": "code",
   "execution_count": 5,
   "metadata": {
    "collapsed": true
   },
   "outputs": [],
   "source": [
    "eventtimes = [57623.74402686, 57633.67986367, 57633.695159375, 57638.49937435,\n",
    "              57643.45730263, 57645.42958602, 57646.4660065, 57648.4369149, 57649.45175697]"
   ]
  },
  {
   "cell_type": "code",
   "execution_count": 6,
   "metadata": {
    "collapsed": false
   },
   "outputs": [
    {
     "name": "stdout",
     "output_type": "stream",
     "text": [
      "(57623.74402686, 14959)\n",
      "(57633.67986367, 48332)\n",
      "(57633.695159375, 61546)\n",
      "(57638.49937435, 127168)\n",
      "(57643.45730263, 413698)\n",
      "(57645.42958602, 530300)\n",
      "(57646.4660065, 635905)\n",
      "(57648.4369149, 764658)\n",
      "(57649.45175697, 849211)\n"
     ]
    }
   ],
   "source": [
    "values0 = np.zeros(len(times), dtype=bool)\n",
    "for eventtime in eventtimes:\n",
    "    bn = np.where(times > eventtime)[0]\n",
    "    if len(bn) and bn[0] > 0:\n",
    "        print(eventtime, bn[0])\n",
    "        values0[bn[0]] = 1"
   ]
  },
  {
   "cell_type": "code",
   "execution_count": 7,
   "metadata": {
    "collapsed": false
   },
   "outputs": [
    {
     "data": {
      "text/plain": [
       "<matplotlib.text.Text at 0x7f2d89b4d690>"
      ]
     },
     "execution_count": 7,
     "metadata": {},
     "output_type": "execute_result"
    },
    {
     "data": {
      "image/png": "[encoded data removed]",
      "text/plain": [
       "<matplotlib.figure.Figure at 0x7f2d89b961d0>"
      ]
     },
     "metadata": {},
     "output_type": "display_data"
    }
   ],
   "source": [
    "pl.plot(times, values0, 'x')\n",
    "#pl.plot(times[np.argwhere(times > 57600)], values0[np.argwhere(times > 57600)], '.')\n",
    "pl.ylim(-0.05, 1.05)\n",
    "pl.xlabel('Time (MJD)')\n",
    "pl.ylabel('FRB 121102 Events')"
   ]
  },
  {
   "cell_type": "markdown",
   "metadata": {},
   "source": [
    "## Lomb-Scargle analysis"
   ]
  },
  {
   "cell_type": "code",
   "execution_count": 8,
   "metadata": {
    "collapsed": false
   },
   "outputs": [],
   "source": [
    "def runls(times, values, fr=(), verbose=False):\n",
    "    ls = LombScargle(times, values)\n",
    "    if len(fr):\n",
    "        f0, f1 = fr\n",
    "        freq, power = ls.autopower(minimum_frequency=f0, maximum_frequency=f1)\n",
    "    else:\n",
    "        freq, power = ls.autopower()\n",
    "        \n",
    "    if verbose:\n",
    "        print('{0} bins for periods from {1}-{2} s'.format(len(freq), 24*3600./freq.max(), 24*3600./freq.min()))\n",
    "        \n",
    "    return freq, power, ls"
   ]
  },
  {
   "cell_type": "code",
   "execution_count": 9,
   "metadata": {
    "collapsed": false
   },
   "outputs": [
    {
     "name": "stdout",
     "output_type": "stream",
     "text": [
      "13846470 bins for periods from 0.864000033116-864.0 s\n"
     ]
    },
    {
     "data": {
      "text/plain": [
       "[<matplotlib.text.Text at 0x7f2d782ae9d0>,\n",
       " <matplotlib.text.Text at 0x7f2d64562650>,\n",
       " <matplotlib.text.Text at 0x7f2d64526c90>,\n",
       " <matplotlib.text.Text at 0x7f2d6452f3d0>,\n",
       " <matplotlib.text.Text at 0x7f2d6452fad0>,\n",
       " <matplotlib.text.Text at 0x7f2d6453b210>,\n",
       " <matplotlib.text.Text at 0x7f2d782c3190>]"
      ]
     },
     "execution_count": 9,
     "metadata": {},
     "output_type": "execute_result"
    },
    {
     "data": {
      "image/png": "[encoded data removed]",
      "text/plain": [
       "<matplotlib.figure.Figure at 0x7f2d91b0d910>"
      ]
     },
     "metadata": {},
     "output_type": "display_data"
    }
   ],
   "source": [
    "fr = (1e2, 1e5)\n",
    "freq0, power0, ls = runls(times, values0, fr=fr, verbose=True)\n",
    "\n",
    "fig = pl.figure(figsize=(6,6))\n",
    "ax = fig.add_subplot(111)\n",
    "pl.plot(np.log10(freq0), power0, 'k')\n",
    "xts = ax.get_xticks()\n",
    "pl.ylabel('Power')\n",
    "pl.xlabel('log Frequency (day$^{-1}$)')\n",
    "ax2 = ax.twiny()\n",
    "pl.plot(np.log10(freq0), power0, 'k')\n",
    "pl.xlabel('Period (s)')\n",
    "xtb = ax.get_xticks().tolist()\n",
    "xtt = [np.round(24*3600./10**xt, 1) for xt in xtb]\n",
    "ax2.set_xticklabels(xtt)#, rotation=45)"
   ]
  },
  {
   "cell_type": "code",
   "execution_count": 10,
   "metadata": {
    "collapsed": false
   },
   "outputs": [
    {
     "name": "stdout",
     "output_type": "stream",
     "text": [
      "Peak power frequency: 4.75501454122 s\n"
     ]
    },
    {
     "data": {
      "image/png": "[encoded data removed]",
      "text/plain": [
       "<matplotlib.figure.Figure at 0x7f2d899824d0>"
      ]
     },
     "metadata": {},
     "output_type": "display_data"
    }
   ],
   "source": [
    "fig = pl.figure(figsize=(6,6))\n",
    "ax = fig.add_subplot(111)\n",
    "best_frequency = freq0[np.argmax(power0)]\n",
    "print('Peak power frequency: {0} s'.format(24*3600./best_frequency))\n",
    "t_fit = np.linspace(0, 1)\n",
    "y_fit = ls.model(t_fit, best_frequency)\n",
    "phase = (times * best_frequency) % 1\n",
    "pl.plot(phase, values0, '.')\n",
    "pl.ylim(-0.1, 1.1) \n",
    "pl.show()"
   ]
  },
  {
   "cell_type": "markdown",
   "metadata": {},
   "source": [
    "## simulate Lomb-Scargle to find effect of observing cadence"
   ]
  },
  {
   "cell_type": "code",
   "execution_count": 11,
   "metadata": {
    "collapsed": false,
    "scrolled": true
   },
   "outputs": [
    {
     "name": "stdout",
     "output_type": "stream",
     "text": [
      "trial 0\n",
      "trial 1\n",
      "trial 2\n",
      "trial 3\n",
      "trial 4\n",
      "trial 5\n",
      "trial 6\n",
      "trial 7\n",
      "trial 8\n",
      "trial 9\n",
      "trial 10\n",
      "trial 11\n",
      "trial 12\n",
      "trial 13\n",
      "trial 14\n",
      "trial 15\n",
      "trial 16\n",
      "trial 17\n",
      "trial 18\n",
      "trial 19\n",
      "trial 20\n",
      "trial 21\n",
      "trial 22\n",
      "trial 23\n",
      "trial 24\n",
      "trial 25\n",
      "trial 26\n",
      "trial 27\n",
      "trial 28\n",
      "trial 29\n",
      "trial 30\n",
      "trial 31\n",
      "trial 32\n",
      "trial 33\n",
      "trial 34\n",
      "trial 35\n",
      "trial 36\n",
      "trial 37\n",
      "trial 38\n",
      "trial 39\n",
      "trial 40\n",
      "trial 41\n",
      "trial 42\n",
      "trial 43\n",
      "trial 44\n",
      "trial 45\n",
      "trial 46\n",
      "trial 47\n",
      "trial 48\n",
      "trial 49\n",
      "trial 50\n",
      "trial 51\n",
      "trial 52\n",
      "trial 53\n",
      "trial 54\n",
      "trial 55\n",
      "trial 56\n",
      "trial 57\n",
      "trial 58\n",
      "trial 59\n",
      "trial 60\n",
      "trial 61\n",
      "trial 62\n",
      "trial 63\n",
      "trial 64\n",
      "trial 65\n",
      "trial 66\n",
      "trial 67\n",
      "trial 68\n",
      "trial 69\n",
      "trial 70\n",
      "trial 71\n",
      "trial 72\n",
      "trial 73\n",
      "trial 74\n",
      "trial 75\n",
      "trial 76\n",
      "trial 77\n",
      "trial 78\n",
      "trial 79\n",
      "trial 80\n",
      "trial 81\n",
      "trial 82\n",
      "trial 83\n",
      "trial 84\n",
      "trial 85\n",
      "trial 86\n",
      "trial 87\n",
      "trial 88\n",
      "trial 89\n",
      "trial 90\n",
      "trial 91\n",
      "trial 92\n",
      "trial 93\n",
      "trial 94\n",
      "trial 95\n",
      "trial 96\n",
      "trial 97\n",
      "trial 98\n",
      "trial 99\n"
     ]
    }
   ],
   "source": [
    "ntr = 100\n",
    "powers = []\n",
    "for trial in range(ntr):\n",
    "    print('trial {0}'.format(trial))\n",
    "    values = np.zeros(len(times), dtype=bool)\n",
    "#    ets = np.random.choice(times[np.where(times > 57600)], size=9, replace=False)  # only last campaign\n",
    "    ets = np.random.choice(times, size=9, replace=False)  # all times\n",
    "    for et in ets:\n",
    "        etind = np.where(times >= et)[0][0]\n",
    "        values[etind] = 1\n",
    "        \n",
    "#    pl.plot(times, values, '.')\n",
    "#    pl.ylim(-0.1, 1.1)\n",
    "    freq, power, lsn = runls(times, values, fr=fr)\n",
    "#    plotls(freq, power)\n",
    "    powers.append(power)\n",
    "    \n",
    "powers = np.array(powers)"
   ]
  },
  {
   "cell_type": "code",
   "execution_count": 12,
   "metadata": {
    "collapsed": false
   },
   "outputs": [
    {
     "data": {
      "text/plain": [
       "[<matplotlib.text.Text at 0x7f2d8981c410>,\n",
       " <matplotlib.text.Text at 0x7f2d89827cd0>,\n",
       " <matplotlib.text.Text at 0x7f2d897bd3d0>,\n",
       " <matplotlib.text.Text at 0x7f2d89813c50>,\n",
       " <matplotlib.text.Text at 0x7f2d8981ce90>,\n",
       " <matplotlib.text.Text at 0x7f2d898a4ad0>,\n",
       " <matplotlib.text.Text at 0x7f2d8989c490>]"
      ]
     },
     "execution_count": 12,
     "metadata": {},
     "output_type": "execute_result"
    },
    {
     "data": {
      "image/png": "[encoded data removed]",
      "text/plain": [
       "<matplotlib.figure.Figure at 0x7f2d856c4590>"
      ]
     },
     "metadata": {},
     "output_type": "display_data"
    }
   ],
   "source": [
    "bound = 0.05\n",
    "\n",
    "powsort = np.sort(powers, axis=0)\n",
    "powh = powsort[int((1-bound)*ntr)-1]\n",
    "\n",
    "fig = pl.figure(figsize=(6,6))\n",
    "ax = fig.add_subplot(111)\n",
    "pl.plot(np.log10(freq0), power0, 'k.')\n",
    "pl.plot(np.log10(freq0), powh, 'c')\n",
    "xts = ax.get_xticks()\n",
    "pl.ylabel('Power')\n",
    "pl.xlabel('log Frequency (day$^{-1}$)')\n",
    "ax2 = ax.twiny()\n",
    "pl.plot(np.log10(freq0), power0, 'k.')\n",
    "pl.plot(np.log10(freq0), powh, 'c')\n",
    "pl.xlabel('Period (s)')\n",
    "xtb = ax.get_xticks().tolist()\n",
    "xtt = [np.round(24*3600./10**xt, 1) for xt in xtb]\n",
    "ax2.set_xticklabels(xtt)#, rotation=45)"
   ]
  },
  {
   "cell_type": "markdown",
   "metadata": {},
   "source": [
    "## Period search"
   ]
  },
  {
   "cell_type": "code",
   "execution_count": 13,
   "metadata": {
    "collapsed": false
   },
   "outputs": [
    {
     "name": "stdout",
     "output_type": "stream",
     "text": [
      "(222, 13846470)\n",
      "[ 134.07016016  131.68622096  131.48380101   38.96742163   36.70042781\n",
      "   30.06954125   28.69184343   13.19952367   12.01647747   10.65901803\n",
      "   10.65768996    9.8740051     9.86085797    9.85972134    9.85971322\n",
      "    9.85857685    9.23458133    9.18528306    9.18429682    9.18428978\n",
      "    9.17291415    9.17193057    8.5855066     7.77179284    7.4250601\n",
      "    7.33805402    6.98608054    5.64818317    5.41588987    4.93342766\n",
      "    4.92985931    4.76845768    4.75528077    4.75527888    4.75501454\n",
      "    4.75501265    4.71944158    4.60468403    4.60345205    4.58930156\n",
      "    4.5892998     4.57131691    4.20960622    4.20960474    4.09135541\n",
      "    4.08909641    4.07920691    4.07920552    4.079011      3.96807195\n",
      "    3.96788656    3.49571312    3.32837049    3.20805529    3.20805443\n",
      "    3.20793412    3.19170386    3.13891724    3.13880123    3.13308568\n",
      "    3.13297093    3.13164613    3.12326128    3.06572846    3.05161874\n",
      "    2.95007258    2.89150569    2.88543253    2.8853345     2.82937969\n",
      "    2.8292861     2.82928543    2.48836612    2.38092974    2.37757351\n",
      "    2.37750695    2.37191166    2.3719112     2.36858033    2.33938514\n",
      "    2.33074196    2.33067846    2.330678      2.33036279    2.2901455\n",
      "    2.23587794    2.23581909    2.23285924    2.19914521    2.19849238\n",
      "    2.19843587    2.19563047    2.16302309    1.89076824    1.88511817\n",
      "    1.88507662    1.88507633    1.88487012    1.85873852    1.85847284\n",
      "    1.85847256    1.85843218    1.79813051    1.79809271    1.79809244\n",
      "    1.79765598    1.79574207    1.77390848    1.77387169    1.77387143\n",
      "    1.77383464    1.76886089    1.63355264    1.58254531    1.5825451\n",
      "    1.58251582    1.56408295    1.56405435    1.56394099    1.56391219\n",
      "    1.56372411    1.54732609    1.54569599    1.54555714    1.52078311\n",
      "    1.52075608    1.50342087    1.50339444    1.50339425    1.49982015\n",
      "    1.49979367    1.48674899    1.48672315    1.48672296    1.34993757\n",
      "    1.34993742    1.34991612    1.34983167    1.34981022    1.33743662\n",
      "    1.33741571    1.33621858    1.32396942    1.3047378     1.30448809\n",
      "    1.29193743    1.29191791    1.29191777    1.28927758    1.28925801\n",
      "    1.27787024    1.27787011    1.27785102    1.18736953    1.18735293\n",
      "    1.17768737    1.17767115    1.17686564    1.17675913    1.17674283\n",
      "    1.16743255    1.16741662    1.16723262    1.16526023    1.15715828\n",
      "    1.14226445    1.14226434    1.14224909    1.1401846     1.13132816\n",
      "    1.13125388    1.13123881    1.13056983    1.12178852    1.12178841\n",
      "    1.1217737     1.10777131    1.07256915    1.05143698    1.04383779\n",
      "    1.0438377     1.04382496    1.0431084     1.04210065    1.0356287\n",
      "    1.03562861    1.03561607    1.03391875    1.0149578     1.01489062\n",
      "    1.01487858    1.01487849    1.0142682     1.00725385    1.00720684\n",
      "    1.00719498    1.00719489    1.00718303    0.98174364    0.94390731\n",
      "    0.94248663    0.93730831    0.9371897     0.93717936    0.93591773\n",
      "    0.93590741    0.93578915    0.93068397    0.92930279    0.9202295\n",
      "    0.91966258    0.91390184    0.91389208    0.91389201    0.91385337\n",
      "    0.91384354    0.90814554    0.90765683    0.90759348    0.9075456\n",
      "    0.88693574    0.87516232]\n"
     ]
    }
   ],
   "source": [
    "# find high frequencies in l-s analysis\n",
    "high = np.where(power0 > 0.9*power0.max())\n",
    "print(len(high[0]), len(freq0))\n",
    "print(24*3600./freq0[high])"
   ]
  },
  {
   "cell_type": "code",
   "execution_count": 14,
   "metadata": {
    "collapsed": false,
    "scrolled": true
   },
   "outputs": [
    {
     "name": "stdout",
     "output_type": "stream",
     "text": [
      "[[  0.00000000e+00   1.00000000e+00   9.93583681e+00]\n",
      " [  0.00000000e+00   2.00000000e+00   9.95113252e+00]\n",
      " [  0.00000000e+00   3.00000000e+00   1.47553475e+01]\n",
      " [  0.00000000e+00   4.00000000e+00   1.97132758e+01]\n",
      " [  0.00000000e+00   5.00000000e+00   2.16855592e+01]\n",
      " [  0.00000000e+00   6.00000000e+00   2.27219796e+01]\n",
      " [  0.00000000e+00   7.00000000e+00   2.46928880e+01]\n",
      " [  0.00000000e+00   8.00000000e+00   2.57077301e+01]\n",
      " [  1.00000000e+00   2.00000000e+00   1.52957050e-02]\n",
      " [  1.00000000e+00   3.00000000e+00   4.81951068e+00]\n",
      " [  1.00000000e+00   4.00000000e+00   9.77743896e+00]\n",
      " [  1.00000000e+00   5.00000000e+00   1.17497224e+01]\n",
      " [  1.00000000e+00   6.00000000e+00   1.27861428e+01]\n",
      " [  1.00000000e+00   7.00000000e+00   1.47570512e+01]\n",
      " [  1.00000000e+00   8.00000000e+00   1.57718933e+01]\n",
      " [  2.00000000e+00   3.00000000e+00   4.80421498e+00]\n",
      " [  2.00000000e+00   4.00000000e+00   9.76214326e+00]\n",
      " [  2.00000000e+00   5.00000000e+00   1.17344266e+01]\n",
      " [  2.00000000e+00   6.00000000e+00   1.27708471e+01]\n",
      " [  2.00000000e+00   7.00000000e+00   1.47417555e+01]\n",
      " [  2.00000000e+00   8.00000000e+00   1.57565976e+01]\n",
      " [  3.00000000e+00   4.00000000e+00   4.95792828e+00]\n",
      " [  3.00000000e+00   5.00000000e+00   6.93021167e+00]\n",
      " [  3.00000000e+00   6.00000000e+00   7.96663215e+00]\n",
      " [  3.00000000e+00   7.00000000e+00   9.93754055e+00]\n",
      " [  3.00000000e+00   8.00000000e+00   1.09523826e+01]\n",
      " [  4.00000000e+00   5.00000000e+00   1.97228339e+00]\n",
      " [  4.00000000e+00   6.00000000e+00   3.00870387e+00]\n",
      " [  4.00000000e+00   7.00000000e+00   4.97961227e+00]\n",
      " [  4.00000000e+00   8.00000000e+00   5.99445434e+00]\n",
      " [  5.00000000e+00   6.00000000e+00   1.03642048e+00]\n",
      " [  5.00000000e+00   7.00000000e+00   3.00732888e+00]\n",
      " [  5.00000000e+00   8.00000000e+00   4.02217095e+00]\n",
      " [  6.00000000e+00   7.00000000e+00   1.97090840e+00]\n",
      " [  6.00000000e+00   8.00000000e+00   2.98575047e+00]\n",
      " [  7.00000000e+00   8.00000000e+00   1.01484207e+00]]\n"
     ]
    }
   ],
   "source": [
    "# calculate all differential arrival times\n",
    "delta = [(i,j, eventtimes[j] - eventtimes[i]) for i in range(len(eventtimes)) for j in range(i+1, len(eventtimes))]\n",
    "delta = np.array(delta)\n",
    "print(delta)"
   ]
  },
  {
   "cell_type": "code",
   "execution_count": 15,
   "metadata": {
    "collapsed": false
   },
   "outputs": [
    {
     "name": "stdout",
     "output_type": "stream",
     "text": [
      "7\n",
      "(5023065, 2.3775069542933496)\n",
      "(0.0, 1.0, 0.12602356821298599)\n",
      "(0.0, 2.0, 0.4464661031961441)\n",
      "(0.0, 3.0, 0.5398823618888855)\n",
      "(0.0, 4.0, 0.55564473569393158)\n",
      "(0.0, 5.0, 0.22204208374023438)\n",
      "(0.0, 6.0, 0.66040788590908051)\n",
      "(0.0, 7.0, 0.66264753043651581)\n",
      "(0.0, 8.0, 0.34498628973960876)\n",
      "(1.0, 2.0, 0.32044253376079723)\n",
      "(1.0, 3.0, 0.41385879367589951)\n",
      "(1.0, 4.0, 0.42962116748094559)\n",
      "(1.0, 5.0, 0.096018522977828979)\n",
      "(1.0, 6.0, 0.53438431769609451)\n",
      "(1.0, 7.0, 0.53662395477294922)\n",
      "(1.0, 8.0, 0.21896272897720337)\n",
      "(2.0, 3.0, 0.093416258692741394)\n",
      "(2.0, 4.0, 0.10917863249778748)\n",
      "(2.0, 5.0, 0.77557598799467087)\n",
      "(2.0, 6.0, 0.2139417827129364)\n",
      "(2.0, 7.0, 0.2161814272403717)\n",
      "(2.0, 8.0, 0.89852018654346466)\n",
      "(3.0, 4.0, 0.015762373805046082)\n",
      "(3.0, 5.0, 0.68215972930192947)\n",
      "(3.0, 6.0, 0.12052552402019501)\n",
      "(3.0, 7.0, 0.12276516109704971)\n",
      "(3.0, 8.0, 0.80510393530130386)\n",
      "(4.0, 5.0, 0.66639735177159309)\n",
      "(4.0, 6.0, 0.10476314648985863)\n",
      "(4.0, 7.0, 0.10700278729200363)\n",
      "(4.0, 8.0, 0.78934155777096748)\n",
      "(5.0, 6.0, 0.43836579471826553)\n",
      "(5.0, 7.0, 0.44060543552041054)\n",
      "(5.0, 8.0, 0.12294420599937439)\n",
      "(6.0, 7.0, 0.0022396426647901535)\n",
      "(6.0, 8.0, 0.68457841128110886)\n",
      "(7.0, 8.0, 0.68233876954764128)\n",
      "(11568602, 1.033918752243826)\n",
      "(0.0, 1.0, 0.59184172749519348)\n",
      "(0.0, 2.0, 0.515311598777771)\n",
      "(0.0, 3.0, 0.4835677444934845)\n",
      "(0.0, 4.0, 0.49939584732055664)\n",
      "(0.0, 5.0, 0.06953275203704834)\n",
      "(0.0, 6.0, 0.10728925466537476)\n",
      "(0.0, 7.0, 0.96533143520355225)\n",
      "(0.0, 8.0, 0.96600425243377686)\n",
      "(1.0, 2.0, 0.92346986092161387)\n",
      "(1.0, 3.0, 0.89172600209712982)\n",
      "(1.0, 4.0, 0.90755411982536316)\n",
      "(1.0, 5.0, 0.47769102454185486)\n",
      "(1.0, 6.0, 0.51544752717018127)\n",
      "(1.0, 7.0, 0.37348967790603638)\n",
      "(1.0, 8.0, 0.37416252493858337)\n",
      "(2.0, 3.0, 0.9682561382651329)\n",
      "(2.0, 4.0, 0.98408424854278564)\n",
      "(2.0, 5.0, 0.55422115325927734)\n",
      "(2.0, 6.0, 0.59197765588760376)\n",
      "(2.0, 7.0, 0.45001983642578125)\n",
      "(2.0, 8.0, 0.45069265365600586)\n",
      "(3.0, 4.0, 0.015828117728233337)\n",
      "(3.0, 5.0, 0.58596502244472504)\n",
      "(3.0, 6.0, 0.62372152507305145)\n",
      "(3.0, 7.0, 0.48176369071006775)\n",
      "(3.0, 8.0, 0.48243650794029236)\n",
      "(4.0, 5.0, 0.5701369047164917)\n",
      "(4.0, 6.0, 0.60789341479539871)\n",
      "(4.0, 7.0, 0.46593557298183441)\n",
      "(4.0, 8.0, 0.46660840511322021)\n",
      "(5.0, 6.0, 0.037756510078907013)\n",
      "(5.0, 7.0, 0.89579866826534271)\n",
      "(5.0, 8.0, 0.89647149294614792)\n",
      "(6.0, 7.0, 0.8580421581864357)\n",
      "(6.0, 8.0, 0.85871498286724091)\n",
      "(7.0, 8.0, 0.00067282654345035553)\n"
     ]
    },
    {
     "data": {
      "image/png": "[encoded data removed]",
      "text/plain": [
       "<matplotlib.figure.Figure at 0x7f2d856a9690>"
      ]
     },
     "metadata": {},
     "output_type": "display_data"
    }
   ],
   "source": [
    "cnts = []\n",
    "edgs = []\n",
    "for hh in high[0]:\n",
    "    rots = np.mod(hh*delta[:,2], 1)\n",
    "    cnt, edg = pl.histogram(rots, bins=np.linspace(0,1,30))\n",
    "    cnts.append(cnt)\n",
    "    edgs.append(edg)\n",
    "\n",
    "cntmax = max([cnt.max() for cnt in cnts])\n",
    "print(cntmax)\n",
    "for i in range(len(high[0])):\n",
    "    if cnts[i].max() >= cntmax:\n",
    "        rots = np.mod(high[0][i]*delta[:,2], 1)\n",
    "        print(high[0][i], 24*3600./freq0[high[0][i]])\n",
    "        diffs = [(delta[j,0], delta[j,1], rots[j]) for j in range(len(rots))]\n",
    "        for diff in diffs:\n",
    "            print(diff)\n",
    "        pl.plot(edgs[i][:-1], cnts[i], '.')"
   ]
  },
  {
   "cell_type": "markdown",
   "metadata": {},
   "source": [
    "## Rate"
   ]
  },
  {
   "cell_type": "code",
   "execution_count": 16,
   "metadata": {
    "collapsed": false
   },
   "outputs": [
    {
     "name": "stdout",
     "output_type": "stream",
     "text": [
      "0.167159374081\n",
      "0.023142394295\n"
     ]
    }
   ],
   "source": [
    "# is the rate dropping in time?\n",
    "sel = np.where((times > 57600) & (times < 57635))\n",
    "print(values0[sel].mean()*3600)\n",
    "sel = np.where((times > 57635) & (times < 57660))\n",
    "print(values0[sel].mean()*3600)"
   ]
  },
  {
   "cell_type": "code",
   "execution_count": 17,
   "metadata": {
    "collapsed": true
   },
   "outputs": [],
   "source": [
    "t0 = 57623.\n",
    "rate = lambda t, a, b: a+b*(t-t0)\n",
    "rprod = lambda t, v, a, b: np.prod(poisson.pmf(v, np.maximum(rate(t, a, b), 0.)))"
   ]
  },
  {
   "cell_type": "code",
   "execution_count": 18,
   "metadata": {
    "collapsed": false
   },
   "outputs": [],
   "source": [
    "ar = np.linspace(1e-5, 7.5e-4, 70)\n",
    "br = np.linspace(-2.8e-5, 0.5e-5, 50)\n",
    "sel = np.where((times > t0))\n",
    "probs = np.zeros(shape=(len(ar), len(br)))"
   ]
  },
  {
   "cell_type": "code",
   "execution_count": 19,
   "metadata": {
    "collapsed": false
   },
   "outputs": [],
   "source": [
    "for i in range(len(ar)):\n",
    "    for j in range(len(br)):\n",
    "        probs[i,j] = rprod(times[sel], values0[sel], ar[i], br[j])\n",
    "probs = np.ma.masked_invalid(probs)"
   ]
  },
  {
   "cell_type": "code",
   "execution_count": 20,
   "metadata": {
    "collapsed": false
   },
   "outputs": [
    {
     "name": "stdout",
     "output_type": "stream",
     "text": [
      "(40, 2, 1.8149209694714102e-49)\n"
     ]
    },
    {
     "data": {
      "image/png": "[encoded data removed]",
      "text/plain": [
       "<matplotlib.figure.Figure at 0x7f2d896c6b50>"
      ]
     },
     "metadata": {},
     "output_type": "display_data"
    }
   ],
   "source": [
    "fig = pl.figure(figsize=(7,7))\n",
    "ax = fig.add_subplot(111)\n",
    "pl.imshow(probs/probs.max(), interpolation='nearest', aspect='auto', origin='bottom', cmap='magma',\n",
    "          extent=(br[0], br[-1], ar[0], ar[-1]))\n",
    "X, Y = np.meshgrid(br, ar)\n",
    "pl.contour(X, Y, probs/probs.max(), [0.05, 0.1, 0.2], colors='w')\n",
    "#pl.contour(probs/probs.max(), [0.05])\n",
    "pl.xlabel('Rate change (s$^{-1}$ day$^{-1}$)', fontsize=14)\n",
    "pl.ylabel('Rate (s$^{-1}$)', fontsize=14)\n",
    "xt = pl.setp(ax.get_xticklabels(), fontsize=14)\n",
    "yt = pl.setp(ax.get_yticklabels(), fontsize=14)\n",
    "ax.xaxis.set_tick_params(width=2, color='w')\n",
    "ax.yaxis.set_tick_params(width=2, color='w')\n",
    "#pl.colorbar()\n",
    "\n",
    "bm, am = np.where(probs == probs.max())\n",
    "print(am[0], bm[0], probs[bm, am].data[0])"
   ]
  },
  {
   "cell_type": "code",
   "execution_count": 21,
   "metadata": {
    "collapsed": true
   },
   "outputs": [],
   "source": []
  }
 ],
 "metadata": {
  "anaconda-cloud": {},
  "kernelspec": {
   "display_name": "Python [default]",
   "language": "python",
   "name": "python2"
  },
  "language_info": {
   "codemirror_mode": {
    "name": "ipython",
    "version": 2
   },
   "file_extension": ".py",
   "mimetype": "text/x-python",
   "name": "python",
   "nbconvert_exporter": "python",
   "pygments_lexer": "ipython2",
   "version": "2.7.12"
  }
 },
 "nbformat": 4,
 "nbformat_minor": 1
}
